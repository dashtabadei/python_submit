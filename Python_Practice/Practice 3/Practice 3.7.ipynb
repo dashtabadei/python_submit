{
 "cells": [
  {
   "cell_type": "code",
   "execution_count": 1,
   "id": "95e981cb",
   "metadata": {},
   "outputs": [
    {
     "name": "stdout",
     "output_type": "stream",
     "text": [
      "18\n",
      "-\n",
      "3\n",
      "=\n",
      "15\n",
      "------------------\n",
      "15\n",
      "-\n",
      "3\n",
      "=\n",
      "12\n",
      "------------------\n",
      "12\n",
      "-\n",
      "3\n",
      "=\n",
      "9\n",
      "------------------\n",
      "9\n",
      "-\n",
      "3\n",
      "=\n",
      "6\n",
      "------------------\n",
      "6\n",
      "-\n",
      "3\n",
      "=\n",
      "3\n",
      "------------------\n",
      "3\n",
      "-\n",
      "3\n",
      "=\n",
      "0\n",
      "------------------\n",
      "0\n",
      "Done\n"
     ]
    }
   ],
   "source": [
    "#ابتدا یک تابع یا فانکشن با دو متغیر یا آرگومان تعریف میکنیم\n",
    "def counterNum(a,b):\n",
    "    #سپس یک شرط برای برسی به پایان رسیدن یا به هدف رسیدن خود مینویسیم \n",
    "    if(a==0):\n",
    "        print(\"0\")\n",
    "        print(\"Done\")\n",
    "        #دستور Else\n",
    "        #به معنای اگر شرط حلقه بالایی درست و برقرار نبود از دستورات این حلقه پیروی کند و در طول حلقه برنامه مرتب این دو شرط چک میشوند\n",
    "    else:\n",
    "        print(a)\n",
    "        print(\"-\")\n",
    "        print(b)\n",
    "        print(\"=\")\n",
    "        print(a-b)\n",
    "        print(\"------------------\")\n",
    "        #دستور پایین برای قرار دادن فرمول کسر کردن از اعداد داخل ارگومان ها\n",
    "        counterNum(a-b,b)\n",
    "        #نکته در اینجا اگر عدد اول با عدد دوم بخش پذیر نباشد حلقه بی پایانی از اعداد به شما به دلیل نرسیدن به صفر برای شما ایجاد میشود\n",
    "counterNum(18,3)     "
   ]
  },
  {
   "cell_type": "code",
   "execution_count": null,
   "id": "0479cb17",
   "metadata": {},
   "outputs": [],
   "source": []
  },
  {
   "cell_type": "code",
   "execution_count": null,
   "id": "205bc355",
   "metadata": {},
   "outputs": [],
   "source": []
  },
  {
   "cell_type": "code",
   "execution_count": null,
   "id": "e2833ccc",
   "metadata": {},
   "outputs": [],
   "source": []
  }
 ],
 "metadata": {
  "kernelspec": {
   "display_name": "Python 3 (ipykernel)",
   "language": "python",
   "name": "python3"
  },
  "language_info": {
   "codemirror_mode": {
    "name": "ipython",
    "version": 3
   },
   "file_extension": ".py",
   "mimetype": "text/x-python",
   "name": "python",
   "nbconvert_exporter": "python",
   "pygments_lexer": "ipython3",
   "version": "3.11.5"
  }
 },
 "nbformat": 4,
 "nbformat_minor": 5
}
